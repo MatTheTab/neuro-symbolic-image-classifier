{
  "nbformat": 4,
  "nbformat_minor": 0,
  "metadata": {
    "colab": {
      "provenance": []
    },
    "kernelspec": {
      "name": "python3",
      "display_name": "Python 3"
    },
    "language_info": {
      "name": "python"
    }
  },
  "cells": [
    {
      "cell_type": "markdown",
      "source": [
        "# Demo for The Neuro-symbolic Model"
      ],
      "metadata": {
        "id": "tKb1aHdq95C4"
      }
    },
    {
      "cell_type": "markdown",
      "source": [
        "This notebook offers an interactive application for testing out the concept of a neuro-symbolic classifier. The user can choose a class from the avilable dataset, and a random test image will be passed to the model. The custom model will classify the image and display the decision rule used in the making of the decision."
      ],
      "metadata": {
        "id": "jPANagPk_Cvn"
      }
    },
    {
      "cell_type": "markdown",
      "source": [
        "## Imports"
      ],
      "metadata": {
        "id": "9HFCaYKu-VBm"
      }
    },
    {
      "cell_type": "code",
      "source": [
        "!pip install gradio"
      ],
      "metadata": {
        "colab": {
          "base_uri": "https://localhost:8080/"
        },
        "id": "J_mwOL0H8A64",
        "outputId": "f22f6418-a1bf-46a9-fd81-b06903cdf29b"
      },
      "execution_count": 1,
      "outputs": [
        {
          "output_type": "stream",
          "name": "stdout",
          "text": [
            "Collecting gradio\n",
            "  Downloading gradio-5.16.1-py3-none-any.whl.metadata (16 kB)\n",
            "Collecting aiofiles<24.0,>=22.0 (from gradio)\n",
            "  Downloading aiofiles-23.2.1-py3-none-any.whl.metadata (9.7 kB)\n",
            "Requirement already satisfied: anyio<5.0,>=3.0 in /usr/local/lib/python3.11/dist-packages (from gradio) (3.7.1)\n",
            "Collecting fastapi<1.0,>=0.115.2 (from gradio)\n",
            "  Downloading fastapi-0.115.8-py3-none-any.whl.metadata (27 kB)\n",
            "Collecting ffmpy (from gradio)\n",
            "  Downloading ffmpy-0.5.0-py3-none-any.whl.metadata (3.0 kB)\n",
            "Collecting gradio-client==1.7.0 (from gradio)\n",
            "  Downloading gradio_client-1.7.0-py3-none-any.whl.metadata (7.1 kB)\n",
            "Requirement already satisfied: httpx>=0.24.1 in /usr/local/lib/python3.11/dist-packages (from gradio) (0.28.1)\n",
            "Requirement already satisfied: huggingface-hub>=0.28.1 in /usr/local/lib/python3.11/dist-packages (from gradio) (0.28.1)\n",
            "Requirement already satisfied: jinja2<4.0 in /usr/local/lib/python3.11/dist-packages (from gradio) (3.1.5)\n",
            "Collecting markupsafe~=2.0 (from gradio)\n",
            "  Downloading MarkupSafe-2.1.5-cp311-cp311-manylinux_2_17_x86_64.manylinux2014_x86_64.whl.metadata (3.0 kB)\n",
            "Requirement already satisfied: numpy<3.0,>=1.0 in /usr/local/lib/python3.11/dist-packages (from gradio) (1.26.4)\n",
            "Requirement already satisfied: orjson~=3.0 in /usr/local/lib/python3.11/dist-packages (from gradio) (3.10.15)\n",
            "Requirement already satisfied: packaging in /usr/local/lib/python3.11/dist-packages (from gradio) (24.2)\n",
            "Requirement already satisfied: pandas<3.0,>=1.0 in /usr/local/lib/python3.11/dist-packages (from gradio) (2.2.2)\n",
            "Requirement already satisfied: pillow<12.0,>=8.0 in /usr/local/lib/python3.11/dist-packages (from gradio) (11.1.0)\n",
            "Requirement already satisfied: pydantic>=2.0 in /usr/local/lib/python3.11/dist-packages (from gradio) (2.10.6)\n",
            "Collecting pydub (from gradio)\n",
            "  Downloading pydub-0.25.1-py2.py3-none-any.whl.metadata (1.4 kB)\n",
            "Collecting python-multipart>=0.0.18 (from gradio)\n",
            "  Downloading python_multipart-0.0.20-py3-none-any.whl.metadata (1.8 kB)\n",
            "Requirement already satisfied: pyyaml<7.0,>=5.0 in /usr/local/lib/python3.11/dist-packages (from gradio) (6.0.2)\n",
            "Collecting ruff>=0.9.3 (from gradio)\n",
            "  Downloading ruff-0.9.6-py3-none-manylinux_2_17_x86_64.manylinux2014_x86_64.whl.metadata (25 kB)\n",
            "Collecting safehttpx<0.2.0,>=0.1.6 (from gradio)\n",
            "  Downloading safehttpx-0.1.6-py3-none-any.whl.metadata (4.2 kB)\n",
            "Collecting semantic-version~=2.0 (from gradio)\n",
            "  Downloading semantic_version-2.10.0-py2.py3-none-any.whl.metadata (9.7 kB)\n",
            "Collecting starlette<1.0,>=0.40.0 (from gradio)\n",
            "  Downloading starlette-0.45.3-py3-none-any.whl.metadata (6.3 kB)\n",
            "Collecting tomlkit<0.14.0,>=0.12.0 (from gradio)\n",
            "  Downloading tomlkit-0.13.2-py3-none-any.whl.metadata (2.7 kB)\n",
            "Requirement already satisfied: typer<1.0,>=0.12 in /usr/local/lib/python3.11/dist-packages (from gradio) (0.15.1)\n",
            "Requirement already satisfied: typing-extensions~=4.0 in /usr/local/lib/python3.11/dist-packages (from gradio) (4.12.2)\n",
            "Collecting uvicorn>=0.14.0 (from gradio)\n",
            "  Downloading uvicorn-0.34.0-py3-none-any.whl.metadata (6.5 kB)\n",
            "Requirement already satisfied: fsspec in /usr/local/lib/python3.11/dist-packages (from gradio-client==1.7.0->gradio) (2024.10.0)\n",
            "Requirement already satisfied: websockets<15.0,>=10.0 in /usr/local/lib/python3.11/dist-packages (from gradio-client==1.7.0->gradio) (14.2)\n",
            "Requirement already satisfied: idna>=2.8 in /usr/local/lib/python3.11/dist-packages (from anyio<5.0,>=3.0->gradio) (3.10)\n",
            "Requirement already satisfied: sniffio>=1.1 in /usr/local/lib/python3.11/dist-packages (from anyio<5.0,>=3.0->gradio) (1.3.1)\n",
            "Requirement already satisfied: certifi in /usr/local/lib/python3.11/dist-packages (from httpx>=0.24.1->gradio) (2025.1.31)\n",
            "Requirement already satisfied: httpcore==1.* in /usr/local/lib/python3.11/dist-packages (from httpx>=0.24.1->gradio) (1.0.7)\n",
            "Requirement already satisfied: h11<0.15,>=0.13 in /usr/local/lib/python3.11/dist-packages (from httpcore==1.*->httpx>=0.24.1->gradio) (0.14.0)\n",
            "Requirement already satisfied: filelock in /usr/local/lib/python3.11/dist-packages (from huggingface-hub>=0.28.1->gradio) (3.17.0)\n",
            "Requirement already satisfied: requests in /usr/local/lib/python3.11/dist-packages (from huggingface-hub>=0.28.1->gradio) (2.32.3)\n",
            "Requirement already satisfied: tqdm>=4.42.1 in /usr/local/lib/python3.11/dist-packages (from huggingface-hub>=0.28.1->gradio) (4.67.1)\n",
            "Requirement already satisfied: python-dateutil>=2.8.2 in /usr/local/lib/python3.11/dist-packages (from pandas<3.0,>=1.0->gradio) (2.8.2)\n",
            "Requirement already satisfied: pytz>=2020.1 in /usr/local/lib/python3.11/dist-packages (from pandas<3.0,>=1.0->gradio) (2025.1)\n",
            "Requirement already satisfied: tzdata>=2022.7 in /usr/local/lib/python3.11/dist-packages (from pandas<3.0,>=1.0->gradio) (2025.1)\n",
            "Requirement already satisfied: annotated-types>=0.6.0 in /usr/local/lib/python3.11/dist-packages (from pydantic>=2.0->gradio) (0.7.0)\n",
            "Requirement already satisfied: pydantic-core==2.27.2 in /usr/local/lib/python3.11/dist-packages (from pydantic>=2.0->gradio) (2.27.2)\n",
            "Requirement already satisfied: click>=8.0.0 in /usr/local/lib/python3.11/dist-packages (from typer<1.0,>=0.12->gradio) (8.1.8)\n",
            "Requirement already satisfied: shellingham>=1.3.0 in /usr/local/lib/python3.11/dist-packages (from typer<1.0,>=0.12->gradio) (1.5.4)\n",
            "Requirement already satisfied: rich>=10.11.0 in /usr/local/lib/python3.11/dist-packages (from typer<1.0,>=0.12->gradio) (13.9.4)\n",
            "Requirement already satisfied: six>=1.5 in /usr/local/lib/python3.11/dist-packages (from python-dateutil>=2.8.2->pandas<3.0,>=1.0->gradio) (1.17.0)\n",
            "Requirement already satisfied: markdown-it-py>=2.2.0 in /usr/local/lib/python3.11/dist-packages (from rich>=10.11.0->typer<1.0,>=0.12->gradio) (3.0.0)\n",
            "Requirement already satisfied: pygments<3.0.0,>=2.13.0 in /usr/local/lib/python3.11/dist-packages (from rich>=10.11.0->typer<1.0,>=0.12->gradio) (2.18.0)\n",
            "Requirement already satisfied: charset-normalizer<4,>=2 in /usr/local/lib/python3.11/dist-packages (from requests->huggingface-hub>=0.28.1->gradio) (3.4.1)\n",
            "Requirement already satisfied: urllib3<3,>=1.21.1 in /usr/local/lib/python3.11/dist-packages (from requests->huggingface-hub>=0.28.1->gradio) (2.3.0)\n",
            "Requirement already satisfied: mdurl~=0.1 in /usr/local/lib/python3.11/dist-packages (from markdown-it-py>=2.2.0->rich>=10.11.0->typer<1.0,>=0.12->gradio) (0.1.2)\n",
            "Downloading gradio-5.16.1-py3-none-any.whl (62.2 MB)\n",
            "\u001b[2K   \u001b[90m━━━━━━━━━━━━━━━━━━━━━━━━━━━━━━━━━━━━━━━━\u001b[0m \u001b[32m62.2/62.2 MB\u001b[0m \u001b[31m11.6 MB/s\u001b[0m eta \u001b[36m0:00:00\u001b[0m\n",
            "\u001b[?25hDownloading gradio_client-1.7.0-py3-none-any.whl (321 kB)\n",
            "\u001b[2K   \u001b[90m━━━━━━━━━━━━━━━━━━━━━━━━━━━━━━━━━━━━━━━━\u001b[0m \u001b[32m321.9/321.9 kB\u001b[0m \u001b[31m15.5 MB/s\u001b[0m eta \u001b[36m0:00:00\u001b[0m\n",
            "\u001b[?25hDownloading aiofiles-23.2.1-py3-none-any.whl (15 kB)\n",
            "Downloading fastapi-0.115.8-py3-none-any.whl (94 kB)\n",
            "\u001b[2K   \u001b[90m━━━━━━━━━━━━━━━━━━━━━━━━━━━━━━━━━━━━━━━━\u001b[0m \u001b[32m94.8/94.8 kB\u001b[0m \u001b[31m4.5 MB/s\u001b[0m eta \u001b[36m0:00:00\u001b[0m\n",
            "\u001b[?25hDownloading MarkupSafe-2.1.5-cp311-cp311-manylinux_2_17_x86_64.manylinux2014_x86_64.whl (28 kB)\n",
            "Downloading python_multipart-0.0.20-py3-none-any.whl (24 kB)\n",
            "Downloading ruff-0.9.6-py3-none-manylinux_2_17_x86_64.manylinux2014_x86_64.whl (12.5 MB)\n",
            "\u001b[2K   \u001b[90m━━━━━━━━━━━━━━━━━━━━━━━━━━━━━━━━━━━━━━━━\u001b[0m \u001b[32m12.5/12.5 MB\u001b[0m \u001b[31m52.3 MB/s\u001b[0m eta \u001b[36m0:00:00\u001b[0m\n",
            "\u001b[?25hDownloading safehttpx-0.1.6-py3-none-any.whl (8.7 kB)\n",
            "Downloading semantic_version-2.10.0-py2.py3-none-any.whl (15 kB)\n",
            "Downloading starlette-0.45.3-py3-none-any.whl (71 kB)\n",
            "\u001b[2K   \u001b[90m━━━━━━━━━━━━━━━━━━━━━━━━━━━━━━━━━━━━━━━━\u001b[0m \u001b[32m71.5/71.5 kB\u001b[0m \u001b[31m4.6 MB/s\u001b[0m eta \u001b[36m0:00:00\u001b[0m\n",
            "\u001b[?25hDownloading tomlkit-0.13.2-py3-none-any.whl (37 kB)\n",
            "Downloading uvicorn-0.34.0-py3-none-any.whl (62 kB)\n",
            "\u001b[2K   \u001b[90m━━━━━━━━━━━━━━━━━━━━━━━━━━━━━━━━━━━━━━━━\u001b[0m \u001b[32m62.3/62.3 kB\u001b[0m \u001b[31m4.5 MB/s\u001b[0m eta \u001b[36m0:00:00\u001b[0m\n",
            "\u001b[?25hDownloading ffmpy-0.5.0-py3-none-any.whl (6.0 kB)\n",
            "Downloading pydub-0.25.1-py2.py3-none-any.whl (32 kB)\n",
            "Installing collected packages: pydub, uvicorn, tomlkit, semantic-version, ruff, python-multipart, markupsafe, ffmpy, aiofiles, starlette, safehttpx, gradio-client, fastapi, gradio\n",
            "  Attempting uninstall: markupsafe\n",
            "    Found existing installation: MarkupSafe 3.0.2\n",
            "    Uninstalling MarkupSafe-3.0.2:\n",
            "      Successfully uninstalled MarkupSafe-3.0.2\n",
            "Successfully installed aiofiles-23.2.1 fastapi-0.115.8 ffmpy-0.5.0 gradio-5.16.1 gradio-client-1.7.0 markupsafe-2.1.5 pydub-0.25.1 python-multipart-0.0.20 ruff-0.9.6 safehttpx-0.1.6 semantic-version-2.10.0 starlette-0.45.3 tomlkit-0.13.2 uvicorn-0.34.0\n"
          ]
        }
      ]
    },
    {
      "cell_type": "code",
      "source": [
        "import gradio as gr\n",
        "import torch\n",
        "import pickle\n",
        "import random\n",
        "import numpy as np\n",
        "import matplotlib.pyplot as plt\n",
        "import torchvision.transforms as transforms\n",
        "import torchvision.datasets as datasets\n",
        "import torch.nn as nn\n",
        "import torch.nn.functional as F"
      ],
      "metadata": {
        "id": "Xtb-ZQkW78US"
      },
      "execution_count": 2,
      "outputs": []
    },
    {
      "cell_type": "code",
      "source": [
        "!wget \"https://github.com/MatTheTab/neuro-symbolic-image-classifier/raw/refs/heads/main/models/neuro_symbolic_classifier.pkl\""
      ],
      "metadata": {
        "colab": {
          "base_uri": "https://localhost:8080/"
        },
        "id": "wOWo-b1-xflI",
        "outputId": "178d1565-4cfa-49ab-f239-8de16c81a08b"
      },
      "execution_count": 3,
      "outputs": [
        {
          "output_type": "stream",
          "name": "stdout",
          "text": [
            "--2025-02-18 18:34:36--  https://github.com/MatTheTab/neuro-symbolic-image-classifier/raw/refs/heads/main/models/neuro_symbolic_classifier.pkl\n",
            "Resolving github.com (github.com)... 140.82.116.4\n",
            "Connecting to github.com (github.com)|140.82.116.4|:443... connected.\n",
            "HTTP request sent, awaiting response... 302 Found\n",
            "Location: https://raw.githubusercontent.com/MatTheTab/neuro-symbolic-image-classifier/refs/heads/main/models/neuro_symbolic_classifier.pkl [following]\n",
            "--2025-02-18 18:34:36--  https://raw.githubusercontent.com/MatTheTab/neuro-symbolic-image-classifier/refs/heads/main/models/neuro_symbolic_classifier.pkl\n",
            "Resolving raw.githubusercontent.com (raw.githubusercontent.com)... 185.199.108.133, 185.199.109.133, 185.199.110.133, ...\n",
            "Connecting to raw.githubusercontent.com (raw.githubusercontent.com)|185.199.108.133|:443... connected.\n",
            "HTTP request sent, awaiting response... 200 OK\n",
            "Length: 2119908 (2.0M) [application/octet-stream]\n",
            "Saving to: ‘neuro_symbolic_classifier.pkl’\n",
            "\n",
            "neuro_symbolic_clas 100%[===================>]   2.02M  --.-KB/s    in 0.06s   \n",
            "\n",
            "2025-02-18 18:34:36 (34.1 MB/s) - ‘neuro_symbolic_classifier.pkl’ saved [2119908/2119908]\n",
            "\n"
          ]
        }
      ]
    },
    {
      "cell_type": "markdown",
      "source": [
        "## Redefnitions (Necessary for Imports)"
      ],
      "metadata": {
        "id": "Emkfgr2g-WzO"
      }
    },
    {
      "cell_type": "code",
      "source": [
        "device = \"cuda\" if torch.cuda.is_available() else \"cpu\""
      ],
      "metadata": {
        "id": "zN4W3Ewv343M"
      },
      "execution_count": 4,
      "outputs": []
    },
    {
      "cell_type": "code",
      "source": [
        "class MultiLabelCNN(nn.Module):\n",
        "    \"\"\"\n",
        "    A convolutional neural network for multi-label classification.\n",
        "\n",
        "    Attributes:\n",
        "    conv1, conv2, conv3 (nn.Conv2d): Convolutional layers.\n",
        "    bn1, bn2, bn3 (nn.BatchNorm2d): Batch normalization layers.\n",
        "    pool (nn.MaxPool2d): Max pooling layer.\n",
        "    fc1, fc2, fc3 (nn.Linear): Fully connected layers.\n",
        "    \"\"\"\n",
        "    def __init__(self, num_classes=10):\n",
        "        \"\"\"\n",
        "        Initializes the MultiLabelCNN model.\n",
        "\n",
        "        Parameters:\n",
        "        num_classes (int, optional): Number of output classes. Defaults to 10.\n",
        "        \"\"\"\n",
        "        super(MultiLabelCNN, self).__init__()\n",
        "        self.conv1 = nn.Conv2d(in_channels=3, out_channels=32, kernel_size=3, padding=1)\n",
        "        self.bn1 = nn.BatchNorm2d(32)\n",
        "        self.conv2 = nn.Conv2d(in_channels=32, out_channels=64, kernel_size=3, padding=1)\n",
        "        self.bn2 = nn.BatchNorm2d(64)\n",
        "        self.conv3 = nn.Conv2d(in_channels=64, out_channels=128, kernel_size=3, padding=1)\n",
        "        self.bn3 = nn.BatchNorm2d(128)\n",
        "        self.pool = nn.MaxPool2d(kernel_size=3, stride=2)\n",
        "        expected_size = self.get_expected_size()\n",
        "        self.fc1 = nn.Linear(expected_size, 256)\n",
        "        self.fc2 = nn.Linear(256, 512)\n",
        "        self.fc3 = nn.Linear(512, num_classes)\n",
        "\n",
        "    def get_expected_size(self):\n",
        "        \"\"\"\n",
        "        Computes the output size after convolution and pooling layers.\n",
        "\n",
        "        Returns:\n",
        "        int: Flattened feature size before passing into fully connected layers.\n",
        "        \"\"\"\n",
        "        device = next(self.parameters()).device\n",
        "        random_input = torch.rand((1, 3, 32, 32), device=device)\n",
        "\n",
        "        x = self.pool(F.relu(self.bn1(self.conv1(random_input))))\n",
        "        x = self.pool(F.relu(self.bn2(self.conv2(x))))\n",
        "        x = self.pool(F.relu(self.bn3(self.conv3(x))))\n",
        "\n",
        "        return x.view(x.size(0), -1).size(1)\n",
        "\n",
        "    def forward(self, x):\n",
        "        \"\"\"\n",
        "        Defines the forward pass of the CNN.\n",
        "\n",
        "        Parameters:\n",
        "        x (Tensor): Input tensor of shape (batch_size, 3, height, width).\n",
        "\n",
        "        Returns:\n",
        "        Tensor: Output logits for each class.\n",
        "        \"\"\"\n",
        "        x = self.pool(F.relu(self.bn1(self.conv1(x))))\n",
        "        x = self.pool(F.relu(self.bn2(self.conv2(x))))\n",
        "        x = self.pool(F.relu(self.bn3(self.conv3(x))))\n",
        "\n",
        "        x = x.view(x.size(0), -1)\n",
        "        x = F.relu(self.fc1(x))\n",
        "        x = F.relu(self.fc2(x))\n",
        "        x = self.fc3(x)\n",
        "\n",
        "        return x"
      ],
      "metadata": {
        "id": "qUqXDQ4YzArH"
      },
      "execution_count": 5,
      "outputs": []
    },
    {
      "cell_type": "code",
      "source": [
        "class NeuroSymbolicClassifier:\n",
        "    \"\"\"\n",
        "    A hybrid classifier that combines neural network predictions with symbolic rule-based reasoning.\n",
        "\n",
        "    The model first predicts a set of feature probabilities using the neural network, then converts them into\n",
        "    binary values using a threshold. Based on this feature vector, a symbolic decision tree is used to predict\n",
        "    the class. If a matching rule is found, it is returned; otherwise, a default message is returned.\n",
        "\n",
        "    Parameters:\n",
        "    neural_model (nn.Module): A trained neural network model for predicting feature probabilities.\n",
        "    rules (list): A list of symbolic rules to be applied based on the predicted class.\n",
        "    tree (sklearn.tree.DecisionTreeClassifier): A decision tree model used for classification based on feature vector.\n",
        "    threshold (float): Threshold value for converting feature probabilities to binary values (default is 0.5).\n",
        "    device (str): Device to run the model on, either \"cpu\" or \"cuda\" (default is \"cpu\").\n",
        "    \"\"\"\n",
        "    def __init__(self, neural_model, rules, tree, threshold=0.5, device=\"cpu\"):\n",
        "        \"\"\"\n",
        "        Initializes the NeuroSymbolicClassifier.\n",
        "\n",
        "        Parameters:\n",
        "        neural_model (nn.Module): The trained neural network.\n",
        "        rules (list): The set of rules to use with symbolic reasoning.\n",
        "        tree (sklearn.tree.DecisionTreeClassifier): The decision tree for class prediction based on the binary feature vector.\n",
        "        threshold (float): Threshold to determine the binary classification of each feature.\n",
        "        device (str): The device on which the neural model is run (either \"cpu\" or \"cuda\").\n",
        "        \"\"\"\n",
        "        neural_model.to(device)\n",
        "        self.neural_model = neural_model\n",
        "        self.rules = rules\n",
        "        self.tree = tree\n",
        "        self.threshold = threshold\n",
        "\n",
        "    def _convert_to_binary(self, feature_probs):\n",
        "        \"\"\"\n",
        "        Converts predicted feature probabilities to binary values based on a threshold.\n",
        "\n",
        "        Parameters:\n",
        "        feature_probs (list): The list of predicted feature probabilities from the neural network.\n",
        "\n",
        "        Returns:\n",
        "        tuple: A tuple of binary values (0 or 1) based on the threshold.\n",
        "        \"\"\"\n",
        "        return tuple(int(val >= self.threshold) for val in feature_probs)\n",
        "\n",
        "    def _find_matching_rule(self, predicted_class):\n",
        "        \"\"\"\n",
        "        Searches for a matching symbolic rule corresponding to the predicted class.\n",
        "\n",
        "        Parameters:\n",
        "        predicted_class (str): The predicted class from the decision tree.\n",
        "\n",
        "        Returns:\n",
        "        str: The matching rule, or \"NO MATCHING RULE\" if no rule is found.\n",
        "        \"\"\"\n",
        "        for rule in self.rules:\n",
        "            if predicted_class in rule:\n",
        "                return rule\n",
        "        return \"NO MATCHING RULE\"\n",
        "\n",
        "    def predict(self, image):\n",
        "        \"\"\"\n",
        "        Makes a prediction using the neural model, decision tree, and symbolic rules.\n",
        "\n",
        "        Parameters:\n",
        "        image (ndarray or tensor): The input image for which a prediction is made.\n",
        "\n",
        "        Returns:\n",
        "        tuple: A tuple containing the predicted class and the applied rule (if any).\n",
        "        \"\"\"\n",
        "        image = torch.tensor(image)\n",
        "        image.to(device)\n",
        "        self.neural_model.eval()\n",
        "        with torch.no_grad():\n",
        "\n",
        "            feature_probs = self.neural_model(image).squeeze().tolist()\n",
        "        feature_vector = np.array(self._convert_to_binary(feature_probs), dtype=np.int8)\n",
        "        predicted_class = str(self.tree.predict([feature_vector])[0])\n",
        "        rule = self._find_matching_rule(predicted_class)\n",
        "        return predicted_class, rule"
      ],
      "metadata": {
        "id": "w9PdH2c8y53Q"
      },
      "execution_count": 6,
      "outputs": []
    },
    {
      "cell_type": "markdown",
      "source": [
        "## The Application"
      ],
      "metadata": {
        "id": "1q_1xutt-c9H"
      }
    },
    {
      "cell_type": "code",
      "execution_count": 7,
      "metadata": {
        "colab": {
          "base_uri": "https://localhost:8080/",
          "height": 677
        },
        "id": "m2GuXY1cxVOv",
        "outputId": "a1d2c540-5106-481e-bf9d-2740449571f7"
      },
      "outputs": [
        {
          "output_type": "stream",
          "name": "stdout",
          "text": [
            "Downloading https://www.cs.toronto.edu/~kriz/cifar-10-python.tar.gz to ./data/cifar-10-python.tar.gz\n"
          ]
        },
        {
          "output_type": "stream",
          "name": "stderr",
          "text": [
            "100%|██████████| 170M/170M [00:08<00:00, 19.4MB/s]\n"
          ]
        },
        {
          "output_type": "stream",
          "name": "stdout",
          "text": [
            "Extracting ./data/cifar-10-python.tar.gz to ./data\n",
            "Running Gradio in a Colab notebook requires sharing enabled. Automatically setting `share=True` (you can turn this off by setting `share=False` in `launch()` explicitly).\n",
            "\n",
            "Colab notebook detected. To show errors in colab notebook, set debug=True in launch()\n",
            "* Running on public URL: https://1867650ced08122042.gradio.live\n",
            "\n",
            "This share link expires in 72 hours. For free permanent hosting and GPU upgrades, run `gradio deploy` from the terminal in the working directory to deploy to Hugging Face Spaces (https://huggingface.co/spaces)\n"
          ]
        },
        {
          "output_type": "display_data",
          "data": {
            "text/plain": [
              "<IPython.core.display.HTML object>"
            ],
            "text/html": [
              "<div><iframe src=\"https://1867650ced08122042.gradio.live\" width=\"100%\" height=\"500\" allow=\"autoplay; camera; microphone; clipboard-read; clipboard-write;\" frameborder=\"0\" allowfullscreen></iframe></div>"
            ]
          },
          "metadata": {}
        },
        {
          "output_type": "execute_result",
          "data": {
            "text/plain": []
          },
          "metadata": {},
          "execution_count": 7
        }
      ],
      "source": [
        "with open(\"neuro_symbolic_classifier.pkl\", \"rb\") as f:\n",
        "    hybrid_classifier = pickle.load(f)\n",
        "\n",
        "transform = transforms.Compose([\n",
        "    transforms.ToTensor(),\n",
        "    transforms.Normalize((0.5, 0.5, 0.5), (0.5, 0.5, 0.5))\n",
        "])\n",
        "\n",
        "testset = datasets.CIFAR10(root=\"./data\", train=False, download=True, transform=transform)\n",
        "classes = testset.classes\n",
        "imgs_per_class = {}\n",
        "for img_class in classes:\n",
        "    imgs_per_class[img_class] = []\n",
        "\n",
        "for img, img_class in testset:\n",
        "    imgs_per_class[classes[img_class]].append(img.numpy().copy())\n",
        "del testset\n",
        "\n",
        "def classify_image(selected_class):\n",
        "    '''\n",
        "    Function selects a random image from the specified class, processes it,\n",
        "    classifies it using a hybrid classifier, and displays the image with\n",
        "    the predicted class and applied rule.\n",
        "\n",
        "    Parameters:\n",
        "    selected_class (str or int): The class label for which an image is selected.\n",
        "\n",
        "    Returns:\n",
        "    matplotlib.figure.Figure: A figure displaying the classified image with title annotations.\n",
        "    '''\n",
        "    class_images = imgs_per_class[selected_class]\n",
        "    image = random.choice(class_images)\n",
        "    image_input = np.expand_dims(image, axis=0)\n",
        "    predicted_class, applied_rule = hybrid_classifier.predict(image_input)\n",
        "    img_display = image.transpose((1, 2, 0))\n",
        "    img_display = img_display * 0.5 + 0.5\n",
        "    fig, ax = plt.subplots()\n",
        "    ax.imshow(img_display)\n",
        "    ax.axis(\"off\")\n",
        "    ax.set_title(f\"Predicted: {predicted_class}\\nRule: {applied_rule}\", fontsize=7)\n",
        "    return fig\n",
        "\n",
        "app_description = \"\"\"\n",
        "This application demonstrates a **hybrid neuro-symbolic classifier** trained on the CIFAR-10 dataset.\n",
        "Users can select a class from the dropdown menu, and the app will randomly pick an image from the test set belonging to this class.\n",
        "The image is then fed to the model using both a neural network and a set of symbolic rules to correctly classify and describe the image.\n",
        "This solutions combines the strengths of neural networks and symbolic reasoning, enjoy!\n",
        "\"\"\"\n",
        "\n",
        "interface = gr.Interface(\n",
        "    fn=classify_image,\n",
        "    inputs=gr.Dropdown(choices=classes, label=\"Select a class\"),\n",
        "    outputs=gr.Plot(label=\"Model Prediction\"),\n",
        "    title=\"Neuro-Symbolic Image Classifier\",\n",
        "    description=app_description\n",
        ")\n",
        "\n",
        "interface.launch()\n"
      ]
    }
  ]
}